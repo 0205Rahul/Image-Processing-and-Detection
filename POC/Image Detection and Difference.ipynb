{
 "cells": [
  {
   "cell_type": "code",
   "execution_count": 1,
   "id": "738cbb01",
   "metadata": {},
   "outputs": [],
   "source": [
    "import numpy as np\n",
    "import sys\n",
    "import cv2"
   ]
  },
  {
   "cell_type": "code",
   "execution_count": 25,
   "id": "ed6d4ba5",
   "metadata": {},
   "outputs": [],
   "source": [
    "img_1 = cv2.imread('POC/ii_1.JPG')\n",
    "img_2 = cv2.imread('POC/ii_2.JPG')"
   ]
  },
  {
   "cell_type": "code",
   "execution_count": 26,
   "id": "0501ff82",
   "metadata": {},
   "outputs": [
    {
     "data": {
      "text/plain": [
       "(483, 720, 3)"
      ]
     },
     "execution_count": 26,
     "metadata": {},
     "output_type": "execute_result"
    }
   ],
   "source": [
    "img_1.shape"
   ]
  },
  {
   "cell_type": "code",
   "execution_count": 27,
   "id": "570e2cf9",
   "metadata": {},
   "outputs": [
    {
     "data": {
      "text/plain": [
       "(483, 720, 3)"
      ]
     },
     "execution_count": 27,
     "metadata": {},
     "output_type": "execute_result"
    }
   ],
   "source": [
    "img_2.shape"
   ]
  },
  {
   "cell_type": "code",
   "execution_count": 28,
   "id": "119470a5",
   "metadata": {},
   "outputs": [
    {
     "ename": "SystemExit",
     "evalue": "",
     "output_type": "error",
     "traceback": [
      "An exception has occurred, use %tb to see the full traceback.\n",
      "\u001b[1;31mSystemExit\u001b[0m\n"
     ]
    },
    {
     "name": "stderr",
     "output_type": "stream",
     "text": [
      "C:\\ProgramData\\Anaconda3\\lib\\site-packages\\IPython\\core\\interactiveshell.py:3377: UserWarning: To exit: use 'exit', 'quit', or Ctrl-D.\n",
      "  warn(\"To exit: use 'exit', 'quit', or Ctrl-D.\", stacklevel=1)\n"
     ]
    }
   ],
   "source": [
    "while True:\n",
    "    cv2.imshow(\"Image_1\", img_1)\n",
    "    cv2.imshow(\"Image_2\", img_2)\n",
    "    cv2.waitKey(0)\n",
    "    sys.exit() # to exit from all the processes"
   ]
  },
  {
   "cell_type": "code",
   "execution_count": 29,
   "id": "2d90e2a7",
   "metadata": {},
   "outputs": [],
   "source": [
    "val = (img_1.shape == img_2.shape)\n",
    "if val==False:\n",
    "    print('Images are different, due to shape')"
   ]
  },
  {
   "cell_type": "code",
   "execution_count": 30,
   "id": "54b015cc",
   "metadata": {},
   "outputs": [],
   "source": [
    "img_1 = cv2.resize(img_1, (img_2.shape[1], img_2.shape[0]))"
   ]
  },
  {
   "cell_type": "code",
   "execution_count": 31,
   "id": "0fbb4850",
   "metadata": {},
   "outputs": [
    {
     "data": {
      "text/plain": [
       "(483, 720, 3)"
      ]
     },
     "execution_count": 31,
     "metadata": {},
     "output_type": "execute_result"
    }
   ],
   "source": [
    "img_1.shape"
   ]
  },
  {
   "cell_type": "code",
   "execution_count": 32,
   "id": "6e0047da",
   "metadata": {},
   "outputs": [
    {
     "data": {
      "text/plain": [
       "(483, 720, 3)"
      ]
     },
     "execution_count": 32,
     "metadata": {},
     "output_type": "execute_result"
    }
   ],
   "source": [
    "img_2.shape"
   ]
  },
  {
   "cell_type": "code",
   "execution_count": 33,
   "id": "9d794481",
   "metadata": {},
   "outputs": [],
   "source": [
    "diff = cv2.absdiff(img_1, img_2)"
   ]
  },
  {
   "cell_type": "code",
   "execution_count": 34,
   "id": "c1b248c6",
   "metadata": {},
   "outputs": [
    {
     "data": {
      "text/plain": [
       "array([[[0, 0, 0],\n",
       "        [0, 0, 0],\n",
       "        [0, 0, 0],\n",
       "        ...,\n",
       "        [0, 0, 0],\n",
       "        [0, 0, 0],\n",
       "        [0, 0, 0]],\n",
       "\n",
       "       [[0, 0, 0],\n",
       "        [0, 0, 0],\n",
       "        [0, 0, 0],\n",
       "        ...,\n",
       "        [0, 0, 0],\n",
       "        [0, 0, 0],\n",
       "        [0, 0, 0]],\n",
       "\n",
       "       [[0, 0, 0],\n",
       "        [0, 0, 0],\n",
       "        [0, 0, 0],\n",
       "        ...,\n",
       "        [0, 0, 0],\n",
       "        [0, 0, 0],\n",
       "        [0, 0, 0]],\n",
       "\n",
       "       ...,\n",
       "\n",
       "       [[0, 0, 0],\n",
       "        [0, 0, 0],\n",
       "        [0, 0, 0],\n",
       "        ...,\n",
       "        [0, 0, 0],\n",
       "        [0, 0, 0],\n",
       "        [0, 0, 0]],\n",
       "\n",
       "       [[0, 0, 0],\n",
       "        [0, 0, 0],\n",
       "        [0, 0, 0],\n",
       "        ...,\n",
       "        [0, 0, 0],\n",
       "        [0, 0, 0],\n",
       "        [0, 0, 0]],\n",
       "\n",
       "       [[0, 0, 0],\n",
       "        [0, 0, 0],\n",
       "        [0, 0, 0],\n",
       "        ...,\n",
       "        [0, 0, 0],\n",
       "        [0, 0, 0],\n",
       "        [0, 0, 0]]], dtype=uint8)"
      ]
     },
     "execution_count": 34,
     "metadata": {},
     "output_type": "execute_result"
    }
   ],
   "source": [
    "diff"
   ]
  },
  {
   "cell_type": "code",
   "execution_count": 35,
   "id": "c7809f87",
   "metadata": {},
   "outputs": [],
   "source": [
    "gray = cv2.cvtColor(diff, cv2.COLOR_BGR2GRAY)"
   ]
  },
  {
   "cell_type": "code",
   "execution_count": 36,
   "id": "69a5a0a5",
   "metadata": {},
   "outputs": [
    {
     "data": {
      "text/plain": [
       "array([[0, 0, 0, ..., 0, 0, 0],\n",
       "       [0, 0, 0, ..., 0, 0, 0],\n",
       "       [0, 0, 0, ..., 0, 0, 0],\n",
       "       ...,\n",
       "       [0, 0, 0, ..., 0, 0, 0],\n",
       "       [0, 0, 0, ..., 0, 0, 0],\n",
       "       [0, 0, 0, ..., 0, 0, 0]], dtype=uint8)"
      ]
     },
     "execution_count": 36,
     "metadata": {},
     "output_type": "execute_result"
    }
   ],
   "source": [
    "gray"
   ]
  },
  {
   "cell_type": "code",
   "execution_count": 37,
   "id": "02af2e6a",
   "metadata": {},
   "outputs": [],
   "source": [
    "_, thresh = cv2.threshold(gray, 30, 255, cv2.THRESH_BINARY)"
   ]
  },
  {
   "cell_type": "code",
   "execution_count": 38,
   "id": "062cc658",
   "metadata": {},
   "outputs": [],
   "source": [
    "contours, _ = cv2.findContours(thresh, cv2.RETR_EXTERNAL, cv2.CHAIN_APPROX_SIMPLE)"
   ]
  },
  {
   "cell_type": "code",
   "execution_count": 39,
   "id": "4fb8ca49",
   "metadata": {},
   "outputs": [],
   "source": [
    "thresh_limit = 500"
   ]
  },
  {
   "cell_type": "code",
   "execution_count": 40,
   "id": "13ec9cb6",
   "metadata": {},
   "outputs": [],
   "source": [
    "for ct in contours:\n",
    "    area_mark = cv2.contourArea(ct)\n",
    "    if area_mark > thresh_limit:\n",
    "        (x, y, w, h) = cv2.boundingRect(ct)\n",
    "        cv2.rectangle(img_1, (x, y), (x+w, y+h), (0, 0, 255), 2)\n",
    "        cv2.putText(img_1, 'Missing Object', (x, y-10), cv2.FONT_HERSHEY_SIMPLEX, 0.7, (0, 0, 0), 2)\n",
    "        cv2.rectangle(img_2, (x, y), (x+w, y+h), (0, 0, 255), 2)\n",
    "        cv2.putText(img_2, 'Missing Object', (x, y-10), cv2.FONT_HERSHEY_SIMPLEX, 0.7, (0, 0, 0), 2)"
   ]
  },
  {
   "cell_type": "code",
   "execution_count": 41,
   "id": "5f0aa51c",
   "metadata": {},
   "outputs": [],
   "source": [
    "cv2.imshow(\"Difference_1\", img_1)\n",
    "cv2.waitKey(0)\n",
    "cv2.destroyAllWindows()\n"
   ]
  },
  {
   "cell_type": "code",
   "execution_count": 20,
   "id": "09a8170f",
   "metadata": {},
   "outputs": [],
   "source": [
    "cv2.imshow(\"Difference_2\", img_2)\n",
    "cv2.waitKey(0)\n",
    "cv2.destroyAllWindows()"
   ]
  },
  {
   "cell_type": "code",
   "execution_count": null,
   "id": "1f516440",
   "metadata": {},
   "outputs": [],
   "source": []
  }
 ],
 "metadata": {
  "kernelspec": {
   "display_name": "Python 3 (ipykernel)",
   "language": "python",
   "name": "python3"
  },
  "language_info": {
   "codemirror_mode": {
    "name": "ipython",
    "version": 3
   },
   "file_extension": ".py",
   "mimetype": "text/x-python",
   "name": "python",
   "nbconvert_exporter": "python",
   "pygments_lexer": "ipython3",
   "version": "3.9.12"
  }
 },
 "nbformat": 4,
 "nbformat_minor": 5
}
