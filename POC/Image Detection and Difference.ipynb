{
 "cells": [
  {
   "cell_type": "code",
   "execution_count": 4,
   "id": "738cbb01",
   "metadata": {
    "is_executing": true
   },
   "outputs": [],
   "source": [
    "import numpy as np\n",
    "import sys\n",
    "import cv2"
   ]
  },
  {
   "cell_type": "code",
   "execution_count": 7,
   "id": "ed6d4ba5",
   "metadata": {},
   "outputs": [],
   "source": [
    "img_1 = cv2.imread('POC/SAP1.jpg')\n",
    "img_2 = cv2.imread('POC/SAP2.jpg')"
   ]
  },
  {
   "cell_type": "code",
   "execution_count": 8,
   "id": "0501ff82",
   "metadata": {},
   "outputs": [
    {
     "data": {
      "text/plain": [
       "(1152, 648, 3)"
      ]
     },
     "execution_count": 8,
     "metadata": {},
     "output_type": "execute_result"
    }
   ],
   "source": [
    "img_1.shape"
   ]
  },
  {
   "cell_type": "code",
   "execution_count": 9,
   "id": "570e2cf9",
   "metadata": {},
   "outputs": [
    {
     "data": {
      "text/plain": [
       "(1152, 648, 3)"
      ]
     },
     "execution_count": 9,
     "metadata": {},
     "output_type": "execute_result"
    }
   ],
   "source": [
    "img_2.shape"
   ]
  },
  {
   "cell_type": "code",
   "execution_count": 10,
   "id": "119470a5",
   "metadata": {},
   "outputs": [
    {
     "ename": "SystemExit",
     "evalue": "",
     "output_type": "error",
     "traceback": [
      "An exception has occurred, use %tb to see the full traceback.\n",
      "\u001B[1;31mSystemExit\u001B[0m\n"
     ]
    },
    {
     "name": "stderr",
     "output_type": "stream",
     "text": [
      "C:\\Users\\KIIT\\AppData\\Local\\Packages\\PythonSoftwareFoundation.Python.3.9_qbz5n2kfra8p0\\LocalCache\\local-packages\\Python39\\site-packages\\IPython\\core\\interactiveshell.py:3406: UserWarning: To exit: use 'exit', 'quit', or Ctrl-D.\n",
      "  warn(\"To exit: use 'exit', 'quit', or Ctrl-D.\", stacklevel=1)\n"
     ]
    }
   ],
   "source": [
    "while True:\n",
    "    cv2.imshow(\"Image_1\", img_1)\n",
    "    cv2.imshow(\"Image_2\", img_2)\n",
    "    cv2.waitKey(0)\n",
    "    sys.exit() # to exit from all the processes"
   ]
  },
  {
   "cell_type": "code",
   "execution_count": 11,
   "id": "2d90e2a7",
   "metadata": {},
   "outputs": [],
   "source": [
    "val = (img_1.shape == img_2.shape)\n",
    "if val==False:\n",
    "    print('Images are different, due to shape')"
   ]
  },
  {
   "cell_type": "code",
   "execution_count": 12,
   "id": "54b015cc",
   "metadata": {},
   "outputs": [],
   "source": [
    "img_1 = cv2.resize(img_1, (img_2.shape[1], img_2.shape[0]))"
   ]
  },
  {
   "cell_type": "code",
   "execution_count": 13,
   "id": "0fbb4850",
   "metadata": {},
   "outputs": [
    {
     "data": {
      "text/plain": [
       "(1152, 648, 3)"
      ]
     },
     "execution_count": 13,
     "metadata": {},
     "output_type": "execute_result"
    }
   ],
   "source": [
    "img_1.shape"
   ]
  },
  {
   "cell_type": "code",
   "execution_count": 14,
   "id": "6e0047da",
   "metadata": {},
   "outputs": [
    {
     "data": {
      "text/plain": [
       "(1152, 648, 3)"
      ]
     },
     "execution_count": 14,
     "metadata": {},
     "output_type": "execute_result"
    }
   ],
   "source": [
    "img_2.shape"
   ]
  },
  {
   "cell_type": "code",
   "execution_count": 15,
   "id": "9d794481",
   "metadata": {},
   "outputs": [],
   "source": [
    "diff = cv2.absdiff(img_1, img_2)"
   ]
  },
  {
   "cell_type": "code",
   "execution_count": 16,
   "id": "c1b248c6",
   "metadata": {},
   "outputs": [
    {
     "data": {
      "text/plain": [
       "array([[[ 8,  6,  6],\n",
       "        [ 8,  6,  6],\n",
       "        [ 7,  5,  5],\n",
       "        ...,\n",
       "        [ 8, 10, 10],\n",
       "        [ 8, 10, 10],\n",
       "        [ 7,  9,  9]],\n",
       "\n",
       "       [[ 9,  7,  7],\n",
       "        [ 9,  7,  7],\n",
       "        [ 8,  6,  6],\n",
       "        ...,\n",
       "        [ 7,  9,  9],\n",
       "        [ 7,  9,  9],\n",
       "        [ 6,  8,  8]],\n",
       "\n",
       "       [[ 8,  6,  6],\n",
       "        [ 8,  6,  6],\n",
       "        [ 8,  6,  6],\n",
       "        ...,\n",
       "        [ 5,  7,  7],\n",
       "        [ 4,  6,  6],\n",
       "        [ 4,  6,  6]],\n",
       "\n",
       "       ...,\n",
       "\n",
       "       [[ 5,  6,  4],\n",
       "        [ 5,  6,  4],\n",
       "        [ 4,  5,  3],\n",
       "        ...,\n",
       "        [18, 15, 19],\n",
       "        [18, 15, 19],\n",
       "        [18, 15, 19]],\n",
       "\n",
       "       [[ 6,  7,  5],\n",
       "        [ 6,  7,  5],\n",
       "        [ 5,  6,  4],\n",
       "        ...,\n",
       "        [18, 15, 19],\n",
       "        [18, 15, 19],\n",
       "        [18, 15, 19]],\n",
       "\n",
       "       [[ 7,  8,  6],\n",
       "        [ 6,  7,  5],\n",
       "        [ 6,  7,  5],\n",
       "        ...,\n",
       "        [18, 15, 19],\n",
       "        [18, 15, 19],\n",
       "        [18, 15, 19]]], dtype=uint8)"
      ]
     },
     "execution_count": 16,
     "metadata": {},
     "output_type": "execute_result"
    }
   ],
   "source": [
    "diff"
   ]
  },
  {
   "cell_type": "code",
   "execution_count": 17,
   "id": "c7809f87",
   "metadata": {},
   "outputs": [],
   "source": [
    "gray = cv2.cvtColor(diff, cv2.COLOR_BGR2GRAY)"
   ]
  },
  {
   "cell_type": "code",
   "execution_count": 18,
   "id": "69a5a0a5",
   "metadata": {},
   "outputs": [
    {
     "data": {
      "text/plain": [
       "array([[ 6,  6,  5, ..., 10, 10,  9],\n",
       "       [ 7,  7,  6, ...,  9,  9,  8],\n",
       "       [ 6,  6,  6, ...,  7,  6,  6],\n",
       "       ...,\n",
       "       [ 5,  5,  4, ..., 17, 17, 17],\n",
       "       [ 6,  6,  5, ..., 17, 17, 17],\n",
       "       [ 7,  6,  6, ..., 17, 17, 17]], dtype=uint8)"
      ]
     },
     "execution_count": 18,
     "metadata": {},
     "output_type": "execute_result"
    }
   ],
   "source": [
    "gray"
   ]
  },
  {
   "cell_type": "code",
   "execution_count": 19,
   "id": "02af2e6a",
   "metadata": {},
   "outputs": [],
   "source": [
    "_, thresh = cv2.threshold(gray, 30, 255, cv2.THRESH_BINARY)"
   ]
  },
  {
   "cell_type": "code",
   "execution_count": 20,
   "id": "062cc658",
   "metadata": {},
   "outputs": [],
   "source": [
    "contours, _ = cv2.findContours(thresh, cv2.RETR_EXTERNAL, cv2.CHAIN_APPROX_SIMPLE)"
   ]
  },
  {
   "cell_type": "code",
   "execution_count": 21,
   "id": "4799b87c",
   "metadata": {},
   "outputs": [],
   "source": [
    "for i in contours:\n",
    "    (x, y, w, h) = cv2.boundingRect(i)\n",
    "    cv2.rectangle(img_1, (x, y), (x+w, y+h), (0, 0, 255), 2)\n",
    "    cv2.rectangle(img_2, (x, y), (x+w, y+h), (0, 0, 255), 2)\n"
   ]
  },
  {
   "cell_type": "code",
   "execution_count": 22,
   "id": "5f0aa51c",
   "metadata": {},
   "outputs": [],
   "source": [
    "cv2.imshow(\"Difference_1\", img_1)\n",
    "cv2.waitKey(0)\n",
    "cv2.destroyAllWindows()\n"
   ]
  },
  {
   "cell_type": "code",
   "execution_count": 23,
   "id": "09a8170f",
   "metadata": {},
   "outputs": [],
   "source": [
    "cv2.imshow(\"Difference_2\", img_2)\n",
    "cv2.waitKey(0)\n",
    "cv2.destroyAllWindows()"
   ]
  },
  {
   "cell_type": "code",
   "execution_count": null,
   "id": "1f516440",
   "metadata": {},
   "outputs": [],
   "source": []
  }
 ],
 "metadata": {
  "kernelspec": {
   "display_name": "Python 3 (ipykernel)",
   "language": "python",
   "name": "python3"
  },
  "language_info": {
   "codemirror_mode": {
    "name": "ipython",
    "version": 3
   },
   "file_extension": ".py",
   "mimetype": "text/x-python",
   "name": "python",
   "nbconvert_exporter": "python",
   "pygments_lexer": "ipython3",
   "version": "3.9.12"
  }
 },
 "nbformat": 4,
 "nbformat_minor": 5
}
