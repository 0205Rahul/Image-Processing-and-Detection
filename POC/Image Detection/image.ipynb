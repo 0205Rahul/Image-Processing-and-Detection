{
 "cells": [
  {
   "cell_type": "code",
   "execution_count": 1,
   "metadata": {
    "collapsed": true,
    "ExecuteTime": {
     "end_time": "2023-05-24T04:22:21.160596400Z",
     "start_time": "2023-05-24T04:15:50.511137300Z"
    }
   },
   "outputs": [
    {
     "name": "stdout",
     "output_type": "stream",
     "text": [
      "Options for Image 1:\n",
      "1. Capture from Camera\n",
      "2. Upload Image from Local\n",
      "Options for Image 2:\n",
      "1. Capture from Camera\n",
      "2. Upload Image from Local\n"
     ]
    },
    {
     "ename": "ValueError",
     "evalue": "invalid literal for int() with base 10: ''",
     "output_type": "error",
     "traceback": [
      "\u001B[1;31m---------------------------------------------------------------------------\u001B[0m",
      "\u001B[1;31mValueError\u001B[0m                                Traceback (most recent call last)",
      "Input \u001B[1;32mIn [1]\u001B[0m, in \u001B[0;36m<cell line: 48>\u001B[1;34m()\u001B[0m\n\u001B[0;32m     45\u001B[0m \u001B[38;5;28mprint\u001B[39m(\u001B[38;5;124m\"\u001B[39m\u001B[38;5;124m1. Capture from Camera\u001B[39m\u001B[38;5;124m\"\u001B[39m)\n\u001B[0;32m     46\u001B[0m \u001B[38;5;28mprint\u001B[39m(\u001B[38;5;124m\"\u001B[39m\u001B[38;5;124m2. Upload Image from Local\u001B[39m\u001B[38;5;124m\"\u001B[39m)\n\u001B[1;32m---> 48\u001B[0m choice \u001B[38;5;241m=\u001B[39m \u001B[38;5;28;43mint\u001B[39;49m\u001B[43m(\u001B[49m\u001B[38;5;28;43minput\u001B[39;49m\u001B[43m(\u001B[49m\u001B[38;5;124;43m\"\u001B[39;49m\u001B[38;5;124;43mEnter your choice (1 or 2): \u001B[39;49m\u001B[38;5;124;43m\"\u001B[39;49m\u001B[43m)\u001B[49m\u001B[43m)\u001B[49m\n\u001B[0;32m     50\u001B[0m \u001B[38;5;28;01mif\u001B[39;00m choice \u001B[38;5;241m==\u001B[39m \u001B[38;5;241m1\u001B[39m:\n\u001B[0;32m     51\u001B[0m     img_2 \u001B[38;5;241m=\u001B[39m capture_image_from_camera()\n",
      "\u001B[1;31mValueError\u001B[0m: invalid literal for int() with base 10: ''"
     ]
    }
   ],
   "source": [
    "import numpy as np\n",
    "import sys\n",
    "import cv2\n",
    "import io,os\n",
    "import tkinter as tk\n",
    "from tkinter import filedialog\n",
    "import ipywidgets as widgets\n",
    "from PIL import Image\n",
    "from IPython.display import display,clear_output\n",
    "\n",
    "def capture_image_from_camera():\n",
    "    cap = cv2.VideoCapture(0)\n",
    "    ret, img_ = cap.read()\n",
    "    cap.release()\n",
    "    return img_\n",
    "\n",
    "def upload_image_from_local():\n",
    "    root = tk.Tk()\n",
    "    root.withdraw()\n",
    "    file_path = filedialog.askopenfilename()\n",
    "    root.destroy()\n",
    "\n",
    "    if file_path:\n",
    "        img_ = cv2.imread(file_path)\n",
    "        return img_\n",
    "    else:\n",
    "        return None\n",
    "\n",
    "#Prompt user to capture first image\n",
    "print(\"Options for Image 1:\")\n",
    "print(\"1. Capture from Camera\")\n",
    "print(\"2. Upload Image from Local\")\n",
    "\n",
    "choice = int(input(\"Enter your choice (1 or 2): \"))\n",
    "\n",
    "if choice == 1:\n",
    "    img_1 = capture_image_from_camera()\n",
    "elif choice == 2:\n",
    "    img_1 = upload_image_from_local()\n",
    "else:\n",
    "    print(\"Invalid choice!\")\n",
    "\n",
    "# Prompt the user to capture the second image\n",
    "print(\"Options for Image 2:\")\n",
    "print(\"1. Capture from Camera\")\n",
    "print(\"2. Upload Image from Local\")\n",
    "\n",
    "choice = int(input(\"Enter your choice (1 or 2): \"))\n",
    "\n",
    "if choice == 1:\n",
    "    img_2 = capture_image_from_camera()\n",
    "elif choice == 2:\n",
    "    img_2 = upload_image_from_local()\n",
    "else:\n",
    "    print(\"Invalid choice!\")\n",
    "\n",
    "cv2.imshow(\"Image 1\", img_1)\n",
    "cv2.imshow(\"Image 2\", img_2)\n",
    "cv2.waitKey(0)\n",
    "cv2.destroyAllWindows()\n",
    "\n",
    "img_1.shape\n",
    "\n",
    "img_2.shape\n",
    "\n",
    "diff = cv2.absdiff(img_1, img_2) #find pixel by pixel difference wrt to both images\n",
    "\n",
    "diff\n",
    "\n",
    "gray = cv2.cvtColor(diff, cv2.COLOR_BGR2GRAY)\n",
    "\n",
    "gray\n",
    "\n",
    "_, thresh = cv2.threshold(gray, 30, 255, cv2.THRESH_BINARY)\n",
    "\n",
    "kernel = cv2.getStructuringElement(cv2.MORPH_RECT, (5, 5))\n",
    "thresh = cv2.dilate(thresh, kernel, iterations=2)\n",
    "thresh = cv2.erode(thresh, kernel, iterations=1)\n",
    "\n",
    "contours, _ = cv2.findContours(thresh, cv2.RETR_EXTERNAL, cv2.CHAIN_APPROX_SIMPLE)\n",
    "\n",
    "thresh_limit = 200\n",
    "\n",
    "segmented_diff = img_2.copy()\n",
    "\n",
    "i = 0\n",
    "for ct in (contours):\n",
    "    area_mark = cv2.contourArea(ct)\n",
    "    if area_mark > thresh_limit:\n",
    "        (x, y, w, h) = cv2.boundingRect(ct)\n",
    "        cv2.rectangle(segmented_diff, (x, y), (x+w, y+h), (0, 0, 255), 2)\n",
    "        cv2.putText(segmented_diff, f'Diff {i}', (x, y-10), cv2.FONT_HERSHEY_SIMPLEX, 0.7, (0, 0, 0), 2)\n",
    "        i += 1\n",
    "\n",
    "cv2.imshow(\"Difference\", segmented_diff)\n",
    "cv2.waitKey(0)\n",
    "cv2.destroyAllWindows()\n",
    "\n",
    "save_dir = \"image_data\"\n",
    "os.makedirs(save_dir, exist_ok=True)\n",
    "\n",
    "# Save the captured/uploaded images\n",
    "cv2.imwrite(os.path.join(save_dir, \"realim1.jpg\"), img_1)\n",
    "cv2.imwrite(os.path.join(save_dir, \"realim2.jpg\"), img_2)\n",
    "cv2.imwrite(os.path.join(save_dir, \"difference.jpg\"), segmented_diff)"
   ]
  },
  {
   "cell_type": "code",
   "execution_count": null,
   "outputs": [],
   "source": [],
   "metadata": {
    "collapsed": false
   }
  }
 ],
 "metadata": {
  "kernelspec": {
   "display_name": "Python 3",
   "language": "python",
   "name": "python3"
  },
  "language_info": {
   "codemirror_mode": {
    "name": "ipython",
    "version": 2
   },
   "file_extension": ".py",
   "mimetype": "text/x-python",
   "name": "python",
   "nbconvert_exporter": "python",
   "pygments_lexer": "ipython2",
   "version": "2.7.6"
  }
 },
 "nbformat": 4,
 "nbformat_minor": 0
}
