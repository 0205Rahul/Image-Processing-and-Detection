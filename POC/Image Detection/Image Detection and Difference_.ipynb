{
 "cells": [
  {
   "cell_type": "code",
   "execution_count": 74,
   "id": "738cbb01",
   "metadata": {},
   "outputs": [],
   "source": [
    "import numpy as np\n",
    "import sys\n",
    "import cv2\n",
    "import io,os\n",
    "import tkinter as tk\n",
    "from tkinter import filedialog\n",
    "import ipywidgets as widgets\n",
    "from PIL import Image\n",
    "from IPython.display import display,clear_output"
   ]
  },
  {
   "cell_type": "code",
   "execution_count": 75,
   "id": "902e94bb",
   "metadata": {},
   "outputs": [],
   "source": [
    "def capture_image_from_camera():\n",
    "    cap = cv2.VideoCapture(0)\n",
    "    ret, img_ = cap.read()\n",
    "    cap.release()\n",
    "    return img_"
   ]
  },
  {
   "cell_type": "code",
   "execution_count": 76,
   "id": "45984e0e",
   "metadata": {},
   "outputs": [],
   "source": [
    "def upload_image_from_local():\n",
    "    root = tk.Tk()\n",
    "    root.withdraw()\n",
    "    file_path = filedialog.askopenfilename()\n",
    "    root.destroy()\n",
    "    \n",
    "    if file_path:\n",
    "        img_ = cv2.imread(file_path)\n",
    "        return img_\n",
    "    else:\n",
    "        return None"
   ]
  },
  {
   "cell_type": "code",
   "execution_count": 77,
   "id": "9c1cd0e6",
   "metadata": {},
   "outputs": [
    {
     "name": "stdout",
     "output_type": "stream",
     "text": [
      "Options for Image 1:\n",
      "1. Capture from Camera\n",
      "2. Upload Image from Local\n",
      "Enter your choice (1 or 2): 1\n"
     ]
    }
   ],
   "source": [
    "#Prompt user to capture first image\n",
    "print(\"Options for Image 1:\")\n",
    "print(\"1. Capture from Camera\")\n",
    "print(\"2. Upload Image from Local\")\n",
    "\n",
    "choice = int(input(\"Enter your choice (1 or 2): \"))\n",
    "\n",
    "if choice == 1:\n",
    "    img_1 = capture_image_from_camera()\n",
    "elif choice == 2:\n",
    "    img_1 = upload_image_from_local()\n",
    "else:\n",
    "    print(\"Invalid choice!\")"
   ]
  },
  {
   "cell_type": "code",
   "execution_count": 78,
   "id": "20cefb55",
   "metadata": {},
   "outputs": [
    {
     "name": "stdout",
     "output_type": "stream",
     "text": [
      "Options for Image 2:\n",
      "1. Capture from Camera\n",
      "2. Upload Image from Local\n",
      "Enter your choice (1 or 2): 1\n"
     ]
    }
   ],
   "source": [
    "# Prompt the user to capture the second image\n",
    "print(\"Options for Image 2:\")\n",
    "print(\"1. Capture from Camera\")\n",
    "print(\"2. Upload Image from Local\")\n",
    "\n",
    "choice = int(input(\"Enter your choice (1 or 2): \"))\n",
    "\n",
    "if choice == 1:\n",
    "    img_2 = capture_image_from_camera()\n",
    "elif choice == 2:\n",
    "    img_2 = upload_image_from_local()\n",
    "else:\n",
    "    print(\"Invalid choice!\")"
   ]
  },
  {
   "cell_type": "code",
   "execution_count": 79,
   "id": "0eb021e7",
   "metadata": {},
   "outputs": [],
   "source": [
    "cv2.imshow(\"Image 1\", img_1)\n",
    "cv2.imshow(\"Image 2\", img_2)\n",
    "cv2.waitKey(0)\n",
    "cv2.destroyAllWindows()"
   ]
  },
  {
   "cell_type": "code",
   "execution_count": 55,
   "id": "0501ff82",
   "metadata": {},
   "outputs": [
    {
     "data": {
      "text/plain": [
       "(480, 640, 3)"
      ]
     },
     "execution_count": 55,
     "metadata": {},
     "output_type": "execute_result"
    }
   ],
   "source": [
    "img_1.shape"
   ]
  },
  {
   "cell_type": "code",
   "execution_count": 56,
   "id": "570e2cf9",
   "metadata": {},
   "outputs": [
    {
     "data": {
      "text/plain": [
       "(480, 640, 3)"
      ]
     },
     "execution_count": 56,
     "metadata": {},
     "output_type": "execute_result"
    }
   ],
   "source": [
    "img_2.shape"
   ]
  },
  {
   "cell_type": "code",
   "execution_count": 8,
   "id": "119470a5",
   "metadata": {},
   "outputs": [
    {
     "ename": "SystemExit",
     "evalue": "",
     "output_type": "error",
     "traceback": [
      "An exception has occurred, use %tb to see the full traceback.\n",
      "\u001b[1;31mSystemExit\u001b[0m\n"
     ]
    },
    {
     "name": "stderr",
     "output_type": "stream",
     "text": [
      "C:\\ProgramData\\Anaconda3\\lib\\site-packages\\IPython\\core\\interactiveshell.py:3377: UserWarning: To exit: use 'exit', 'quit', or Ctrl-D.\n",
      "  warn(\"To exit: use 'exit', 'quit', or Ctrl-D.\", stacklevel=1)\n"
     ]
    }
   ],
   "source": [
    "while True:\n",
    "    cv2.imshow(\"Image_1\", img_1)\n",
    "    cv2.imshow(\"Image_2\", img_2)\n",
    "    cv2.waitKey(0)\n",
    "    sys.exit() # to exit from all the processes"
   ]
  },
  {
   "cell_type": "code",
   "execution_count": 57,
   "id": "2d90e2a7",
   "metadata": {},
   "outputs": [],
   "source": [
    "val = (img_1.shape == img_2.shape)\n",
    "if val==False:\n",
    "    print('Images are different, due to shape')"
   ]
  },
  {
   "cell_type": "code",
   "execution_count": 58,
   "id": "54b015cc",
   "metadata": {},
   "outputs": [],
   "source": [
    "img_1 = cv2.resize(img_1, (img_2.shape[1], img_2.shape[0]))"
   ]
  },
  {
   "cell_type": "code",
   "execution_count": 59,
   "id": "0fbb4850",
   "metadata": {},
   "outputs": [
    {
     "data": {
      "text/plain": [
       "(480, 640, 3)"
      ]
     },
     "execution_count": 59,
     "metadata": {},
     "output_type": "execute_result"
    }
   ],
   "source": [
    "img_1.shape"
   ]
  },
  {
   "cell_type": "code",
   "execution_count": 60,
   "id": "6e0047da",
   "metadata": {},
   "outputs": [
    {
     "data": {
      "text/plain": [
       "(480, 640, 3)"
      ]
     },
     "execution_count": 60,
     "metadata": {},
     "output_type": "execute_result"
    }
   ],
   "source": [
    "img_2.shape"
   ]
  },
  {
   "cell_type": "code",
   "execution_count": 61,
   "id": "9d794481",
   "metadata": {},
   "outputs": [],
   "source": [
    "diff = cv2.absdiff(img_1, img_2)"
   ]
  },
  {
   "cell_type": "code",
   "execution_count": 62,
   "id": "c1b248c6",
   "metadata": {},
   "outputs": [
    {
     "data": {
      "text/plain": [
       "array([[[13, 13, 22],\n",
       "        [14, 13, 22],\n",
       "        [17, 16, 25],\n",
       "        ...,\n",
       "        [21, 20, 25],\n",
       "        [24, 23, 28],\n",
       "        [20, 19, 24]],\n",
       "\n",
       "       [[13, 13, 22],\n",
       "        [13, 13, 22],\n",
       "        [13, 13, 22],\n",
       "        ...,\n",
       "        [25, 20, 24],\n",
       "        [26, 21, 26],\n",
       "        [23, 18, 22]],\n",
       "\n",
       "       [[13, 13, 22],\n",
       "        [16, 14, 24],\n",
       "        [17, 15, 24],\n",
       "        ...,\n",
       "        [26, 23, 28],\n",
       "        [22, 21, 26],\n",
       "        [17, 16, 21]],\n",
       "\n",
       "       ...,\n",
       "\n",
       "       [[ 7, 10, 13],\n",
       "        [ 8,  9, 12],\n",
       "        [ 8,  9, 12],\n",
       "        ...,\n",
       "        [10,  9, 12],\n",
       "        [15, 13, 17],\n",
       "        [14, 12, 16]],\n",
       "\n",
       "       [[ 9, 12, 14],\n",
       "        [ 8, 12, 14],\n",
       "        [ 6,  9, 12],\n",
       "        ...,\n",
       "        [ 7,  7, 10],\n",
       "        [11,  9, 12],\n",
       "        [13, 11, 15]],\n",
       "\n",
       "       [[13, 11, 16],\n",
       "        [13, 12, 15],\n",
       "        [12,  9, 12],\n",
       "        ...,\n",
       "        [ 5,  3,  7],\n",
       "        [ 9,  5,  9],\n",
       "        [12,  7, 11]]], dtype=uint8)"
      ]
     },
     "execution_count": 62,
     "metadata": {},
     "output_type": "execute_result"
    }
   ],
   "source": [
    "diff"
   ]
  },
  {
   "cell_type": "code",
   "execution_count": 63,
   "id": "c7809f87",
   "metadata": {},
   "outputs": [],
   "source": [
    "gray = cv2.cvtColor(diff, cv2.COLOR_BGR2GRAY)"
   ]
  },
  {
   "cell_type": "code",
   "execution_count": 64,
   "id": "69a5a0a5",
   "metadata": {},
   "outputs": [
    {
     "data": {
      "text/plain": [
       "array([[16, 16, 19, ..., 22, 25, 21],\n",
       "       [16, 16, 16, ..., 22, 23, 20],\n",
       "       [16, 17, 18, ..., 25, 23, 18],\n",
       "       ...,\n",
       "       [11, 10, 10, ..., 10, 14, 13],\n",
       "       [12, 12, 10, ...,  8, 10, 12],\n",
       "       [13, 13, 10, ...,  4,  7,  9]], dtype=uint8)"
      ]
     },
     "execution_count": 64,
     "metadata": {},
     "output_type": "execute_result"
    }
   ],
   "source": [
    "gray"
   ]
  },
  {
   "cell_type": "code",
   "execution_count": 65,
   "id": "02af2e6a",
   "metadata": {},
   "outputs": [],
   "source": [
    "_, thresh = cv2.threshold(gray, 30, 255, cv2.THRESH_BINARY)"
   ]
  },
  {
   "cell_type": "code",
   "execution_count": 66,
   "id": "062cc658",
   "metadata": {},
   "outputs": [],
   "source": [
    "contours, _ = cv2.findContours(thresh, cv2.RETR_EXTERNAL, cv2.CHAIN_APPROX_SIMPLE)"
   ]
  },
  {
   "cell_type": "code",
   "execution_count": 71,
   "id": "4fb8ca49",
   "metadata": {},
   "outputs": [],
   "source": [
    "thresh_limit = 500"
   ]
  },
  {
   "cell_type": "code",
   "execution_count": 72,
   "id": "13ec9cb6",
   "metadata": {},
   "outputs": [],
   "source": [
    "for ct in contours:\n",
    "    area_mark = cv2.contourArea(ct)\n",
    "    if area_mark > thresh_limit:\n",
    "        (x, y, w, h) = cv2.boundingRect(ct)\n",
    "        cv2.rectangle(img_1, (x, y), (x+w, y+h), (0, 0, 255), 2)\n",
    "        cv2.putText(img_1, '*', (x, y-10), cv2.FONT_HERSHEY_SIMPLEX, 0.7, (0, 0, 0), 2)\n",
    "        cv2.rectangle(img_2, (x, y), (x+w, y+h), (0, 0, 255), 2)\n",
    "        cv2.putText(img_2, '*', (x, y-10), cv2.FONT_HERSHEY_SIMPLEX, 0.7, (0, 0, 0), 2)"
   ]
  },
  {
   "cell_type": "code",
   "execution_count": 73,
   "id": "5f0aa51c",
   "metadata": {},
   "outputs": [],
   "source": [
    "cv2.imshow(\"Difference_1\", img_1)\n",
    "cv2.waitKey(0)\n",
    "cv2.destroyAllWindows()\n"
   ]
  },
  {
   "cell_type": "code",
   "execution_count": 70,
   "id": "09a8170f",
   "metadata": {},
   "outputs": [],
   "source": [
    "cv2.imshow(\"Difference_2\", img_2)\n",
    "cv2.waitKey(0)\n",
    "cv2.destroyAllWindows()"
   ]
  },
  {
   "cell_type": "code",
   "execution_count": 48,
   "id": "1f516440",
   "metadata": {},
   "outputs": [
    {
     "data": {
      "text/plain": [
       "True"
      ]
     },
     "execution_count": 48,
     "metadata": {},
     "output_type": "execute_result"
    }
   ],
   "source": [
    "save_dir = \"image_data\"\n",
    "os.makedirs(save_dir, exist_ok=True)\n",
    "\n",
    "# Save the captured/uploaded images\n",
    "cv2.imwrite(os.path.join(save_dir, \"difference1.jpg\"), img_1)\n",
    "cv2.imwrite(os.path.join(save_dir, \"difference2.jpg\"), img_2)"
   ]
  },
  {
   "cell_type": "code",
   "execution_count": null,
   "id": "e3b5deea",
   "metadata": {},
   "outputs": [],
   "source": []
  }
 ],
 "metadata": {
  "kernelspec": {
   "display_name": "Python 3 (ipykernel)",
   "language": "python",
   "name": "python3"
  },
  "language_info": {
   "codemirror_mode": {
    "name": "ipython",
    "version": 3
   },
   "file_extension": ".py",
   "mimetype": "text/x-python",
   "name": "python",
   "nbconvert_exporter": "python",
   "pygments_lexer": "ipython3",
   "version": "3.9.12"
  }
 },
 "nbformat": 4,
 "nbformat_minor": 5
}
