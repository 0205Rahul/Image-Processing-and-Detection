{
 "cells": [
  {
   "cell_type": "code",
   "execution_count": 1,
   "id": "738cbb01",
   "metadata": {},
   "outputs": [],
   "source": [
    "import numpy as np\n",
    "import sys\n",
    "import cv2\n",
    "import io,os\n",
    "import tkinter as tk\n",
    "from tkinter import filedialog\n",
    "import ipywidgets as widgets\n",
    "from PIL import Image\n",
    "from IPython.display import display,clear_output"
   ]
  },
  {
   "cell_type": "code",
   "execution_count": 2,
   "id": "902e94bb",
   "metadata": {},
   "outputs": [],
   "source": [
    "def capture_image_from_camera():\n",
    "    cap = cv2.VideoCapture(0)\n",
    "    ret, img_ = cap.read()\n",
    "    cap.release()\n",
    "    return img_"
   ]
  },
  {
   "cell_type": "code",
   "execution_count": 3,
   "id": "45984e0e",
   "metadata": {},
   "outputs": [],
   "source": [
    "def upload_image_from_local():\n",
    "    root = tk.Tk()\n",
    "    root.withdraw()\n",
    "    file_path = filedialog.askopenfilename()\n",
    "    root.destroy()\n",
    "    \n",
    "    if file_path:\n",
    "        img_ = cv2.imread(file_path)\n",
    "        return img_\n",
    "    else:\n",
    "        return None"
   ]
  },
  {
   "cell_type": "code",
   "execution_count": 4,
   "id": "9c1cd0e6",
   "metadata": {},
   "outputs": [
    {
     "name": "stdout",
     "output_type": "stream",
     "text": [
      "Options for Image 1:\n",
      "1. Capture from Camera\n",
      "2. Upload Image from Local\n",
      "Enter your choice (1 or 2): 1\n"
     ]
    }
   ],
   "source": [
    "#Prompt user to capture first image\n",
    "print(\"Options for Image 1:\")\n",
    "print(\"1. Capture from Camera\")\n",
    "print(\"2. Upload Image from Local\")\n",
    "\n",
    "choice = int(input(\"Enter your choice (1 or 2): \"))\n",
    "\n",
    "if choice == 1:\n",
    "    img_1 = capture_image_from_camera()\n",
    "elif choice == 2:\n",
    "    img_1 = upload_image_from_local()\n",
    "else:\n",
    "    print(\"Invalid choice!\")"
   ]
  },
  {
   "cell_type": "code",
   "execution_count": 9,
   "id": "20cefb55",
   "metadata": {},
   "outputs": [
    {
     "name": "stdout",
     "output_type": "stream",
     "text": [
      "Options for Image 2:\n",
      "1. Capture from Camera\n",
      "2. Upload Image from Local\n",
      "Enter your choice (1 or 2): 2\n"
     ]
    }
   ],
   "source": [
    "# Prompt the user to capture the second image\n",
    "print(\"Options for Image 2:\")\n",
    "print(\"1. Capture from Camera\")\n",
    "print(\"2. Upload Image from Local\")\n",
    "\n",
    "choice = int(input(\"Enter your choice (1 or 2): \"))\n",
    "\n",
    "if choice == 1:\n",
    "    img_2 = capture_image_from_camera()\n",
    "elif choice == 2:\n",
    "    img_2 = upload_image_from_local()\n",
    "else:\n",
    "    print(\"Invalid choice!\")"
   ]
  },
  {
   "cell_type": "code",
   "execution_count": 57,
   "id": "0eb021e7",
   "metadata": {},
   "outputs": [],
   "source": [
    "cv2.imshow(\"Image 1\", img_1)\n",
    "cv2.imshow(\"Image 2\", img_2)\n",
    "cv2.waitKey(0)\n",
    "cv2.destroyAllWindows()"
   ]
  },
  {
   "cell_type": "code",
   "execution_count": 58,
   "id": "0501ff82",
   "metadata": {},
   "outputs": [
    {
     "data": {
      "text/plain": [
       "(675, 900, 3)"
      ]
     },
     "execution_count": 58,
     "metadata": {},
     "output_type": "execute_result"
    }
   ],
   "source": [
    "img_1.shape"
   ]
  },
  {
   "cell_type": "code",
   "execution_count": 9,
   "id": "570e2cf9",
   "metadata": {},
   "outputs": [
    {
     "data": {
      "text/plain": [
       "(675, 900, 3)"
      ]
     },
     "execution_count": 9,
     "metadata": {},
     "output_type": "execute_result"
    }
   ],
   "source": [
    "img_2.shape"
   ]
  },
  {
   "cell_type": "code",
   "execution_count": 102,
   "id": "119470a5",
   "metadata": {},
   "outputs": [
    {
     "ename": "SystemExit",
     "evalue": "",
     "output_type": "error",
     "traceback": [
      "An exception has occurred, use %tb to see the full traceback.\n",
      "\u001b[1;31mSystemExit\u001b[0m\n"
     ]
    },
    {
     "name": "stderr",
     "output_type": "stream",
     "text": [
      "C:\\ProgramData\\Anaconda3\\lib\\site-packages\\IPython\\core\\interactiveshell.py:3377: UserWarning: To exit: use 'exit', 'quit', or Ctrl-D.\n",
      "  warn(\"To exit: use 'exit', 'quit', or Ctrl-D.\", stacklevel=1)\n"
     ]
    }
   ],
   "source": [
    "while True:\n",
    "    cv2.imshow(\"Image_1\", img_1)\n",
    "    cv2.imshow(\"Image_2\", img_2)\n",
    "    cv2.waitKey(0)\n",
    "    sys.exit() # to exit from all the processes"
   ]
  },
  {
   "cell_type": "code",
   "execution_count": 59,
   "id": "2d90e2a7",
   "metadata": {},
   "outputs": [],
   "source": [
    "val = (img_1.shape == img_2.shape)\n",
    "if val==False:\n",
    "    print('Images are different, due to shape')"
   ]
  },
  {
   "cell_type": "code",
   "execution_count": 60,
   "id": "54b015cc",
   "metadata": {},
   "outputs": [],
   "source": [
    "img_1 = cv2.resize(img_1, (img_2.shape[1], img_2.shape[0]))"
   ]
  },
  {
   "cell_type": "code",
   "execution_count": 61,
   "id": "0fbb4850",
   "metadata": {},
   "outputs": [
    {
     "data": {
      "text/plain": [
       "(675, 900, 3)"
      ]
     },
     "execution_count": 61,
     "metadata": {},
     "output_type": "execute_result"
    }
   ],
   "source": [
    "img_1.shape"
   ]
  },
  {
   "cell_type": "code",
   "execution_count": 62,
   "id": "6e0047da",
   "metadata": {},
   "outputs": [
    {
     "data": {
      "text/plain": [
       "(675, 900, 3)"
      ]
     },
     "execution_count": 62,
     "metadata": {},
     "output_type": "execute_result"
    }
   ],
   "source": [
    "img_2.shape"
   ]
  },
  {
   "cell_type": "code",
   "execution_count": 36,
   "id": "3efc5d6a",
   "metadata": {},
   "outputs": [],
   "source": [
    "img_3 = np.copy(img_1)\n",
    "img_4 = np.copy(img_2)"
   ]
  },
  {
   "cell_type": "code",
   "execution_count": 49,
   "id": "55074bfc",
   "metadata": {},
   "outputs": [],
   "source": [
    "cv2.imshow(\"Image 1\", img_1)\n",
    "cv2.imshow(\"Image 2\", img_2)\n",
    "cv2.waitKey(0)\n",
    "cv2.destroyAllWindows()"
   ]
  },
  {
   "cell_type": "code",
   "execution_count": 63,
   "id": "9d794481",
   "metadata": {},
   "outputs": [],
   "source": [
    "diff = cv2.absdiff(img_3, img_4)"
   ]
  },
  {
   "cell_type": "code",
   "execution_count": 64,
   "id": "c1b248c6",
   "metadata": {},
   "outputs": [
    {
     "data": {
      "text/plain": [
       "array([[[7, 7, 8],\n",
       "        [7, 7, 6],\n",
       "        [2, 2, 3],\n",
       "        ...,\n",
       "        [6, 6, 6],\n",
       "        [3, 3, 3],\n",
       "        [4, 4, 4]],\n",
       "\n",
       "       [[6, 6, 5],\n",
       "        [6, 6, 7],\n",
       "        [4, 4, 5],\n",
       "        ...,\n",
       "        [2, 2, 2],\n",
       "        [4, 4, 4],\n",
       "        [3, 3, 3]],\n",
       "\n",
       "       [[7, 7, 7],\n",
       "        [6, 6, 6],\n",
       "        [6, 6, 6],\n",
       "        ...,\n",
       "        [6, 6, 6],\n",
       "        [4, 4, 4],\n",
       "        [3, 3, 3]],\n",
       "\n",
       "       ...,\n",
       "\n",
       "       [[2, 1, 2],\n",
       "        [2, 1, 2],\n",
       "        [3, 1, 1],\n",
       "        ...,\n",
       "        [3, 3, 3],\n",
       "        [1, 1, 1],\n",
       "        [2, 2, 2]],\n",
       "\n",
       "       [[1, 2, 1],\n",
       "        [1, 2, 1],\n",
       "        [1, 1, 1],\n",
       "        ...,\n",
       "        [2, 2, 2],\n",
       "        [1, 1, 1],\n",
       "        [2, 2, 2]],\n",
       "\n",
       "       [[1, 2, 1],\n",
       "        [0, 3, 0],\n",
       "        [0, 2, 2],\n",
       "        ...,\n",
       "        [0, 0, 0],\n",
       "        [0, 0, 0],\n",
       "        [3, 3, 3]]], dtype=uint8)"
      ]
     },
     "execution_count": 64,
     "metadata": {},
     "output_type": "execute_result"
    }
   ],
   "source": [
    "diff"
   ]
  },
  {
   "cell_type": "code",
   "execution_count": 65,
   "id": "c7809f87",
   "metadata": {},
   "outputs": [],
   "source": [
    "gray = cv2.cvtColor(diff, cv2.COLOR_BGR2GRAY)"
   ]
  },
  {
   "cell_type": "code",
   "execution_count": 66,
   "id": "69a5a0a5",
   "metadata": {},
   "outputs": [
    {
     "data": {
      "text/plain": [
       "array([[7, 7, 2, ..., 6, 3, 4],\n",
       "       [6, 6, 4, ..., 2, 4, 3],\n",
       "       [7, 6, 6, ..., 6, 4, 3],\n",
       "       ...,\n",
       "       [1, 1, 1, ..., 3, 1, 2],\n",
       "       [2, 2, 1, ..., 2, 1, 2],\n",
       "       [2, 2, 2, ..., 0, 0, 3]], dtype=uint8)"
      ]
     },
     "execution_count": 66,
     "metadata": {},
     "output_type": "execute_result"
    }
   ],
   "source": [
    "gray"
   ]
  },
  {
   "cell_type": "code",
   "execution_count": 67,
   "id": "02af2e6a",
   "metadata": {},
   "outputs": [],
   "source": [
    "_, thresh = cv2.threshold(gray, 30, 255, cv2.THRESH_BINARY)"
   ]
  },
  {
   "cell_type": "code",
   "execution_count": 43,
   "id": "062cc658",
   "metadata": {},
   "outputs": [],
   "source": [
    "contours, _ = cv2.findContours(thresh, cv2.RETR_EXTERNAL, cv2.CHAIN_APPROX_SIMPLE)"
   ]
  },
  {
   "cell_type": "code",
   "execution_count": 68,
   "id": "4fb8ca49",
   "metadata": {},
   "outputs": [],
   "source": [
    "thresh_limit = 100"
   ]
  },
  {
   "cell_type": "code",
   "execution_count": 69,
   "id": "13ec9cb6",
   "metadata": {},
   "outputs": [],
   "source": [
    "for ct in contours:\n",
    "    area_mark = cv2.contourArea(ct)\n",
    "    if area_mark > thresh_limit:\n",
    "        (x, y, w, h) = cv2.boundingRect(ct)\n",
    "        cv2.rectangle(img_3, (x, y), (x+w, y+h), (0, 0, 255), 2)\n",
    "        cv2.putText(img_3, '', (x, y-10), cv2.FONT_HERSHEY_SIMPLEX, 0.7, (0, 0, 0), 2)\n",
    "        cv2.rectangle(img_4, (x, y), (x+w, y+h), (0, 0, 255), 2)\n",
    "        cv2.putText(img_4, '', (x, y-10), cv2.FONT_HERSHEY_SIMPLEX, 0.7, (0, 0, 0), 2)"
   ]
  },
  {
   "cell_type": "code",
   "execution_count": 70,
   "id": "7e05b9fd",
   "metadata": {},
   "outputs": [],
   "source": [
    "cv2.imshow(\"Difference_1\", img_3)\n",
    "cv2.waitKey(0)\n",
    "cv2.destroyAllWindows()"
   ]
  },
  {
   "cell_type": "code",
   "execution_count": 47,
   "id": "09a8170f",
   "metadata": {},
   "outputs": [],
   "source": [
    "cv2.imshow(\"Difference_2\", img_4)\n",
    "cv2.waitKey(0)\n",
    "cv2.destroyAllWindows()"
   ]
  },
  {
   "cell_type": "code",
   "execution_count": 50,
   "id": "1f516440",
   "metadata": {},
   "outputs": [
    {
     "data": {
      "text/plain": [
       "True"
      ]
     },
     "execution_count": 50,
     "metadata": {},
     "output_type": "execute_result"
    }
   ],
   "source": [
    "save_dir = \"image_data\"\n",
    "os.makedirs(save_dir, exist_ok=True)\n",
    "\n",
    "# Save the captured/uploaded images\n",
    "cv2.imwrite(os.path.join(save_dir, \"realim1.jpg\"), img_1)\n",
    "cv2.imwrite(os.path.join(save_dir, \"realim2.jpg\"), img_2)\n",
    "cv2.imwrite(os.path.join(save_dir, \"difference1.jpg\"), img_3)\n",
    "cv2.imwrite(os.path.join(save_dir, \"difference2.jpg\"), img_4)"
   ]
  },
  {
   "cell_type": "code",
   "execution_count": null,
   "id": "9f1b0679",
   "metadata": {},
   "outputs": [],
   "source": []
  }
 ],
 "metadata": {
  "kernelspec": {
   "display_name": "Python 3 (ipykernel)",
   "language": "python",
   "name": "python3"
  },
  "language_info": {
   "codemirror_mode": {
    "name": "ipython",
    "version": 3
   },
   "file_extension": ".py",
   "mimetype": "text/x-python",
   "name": "python",
   "nbconvert_exporter": "python",
   "pygments_lexer": "ipython3",
   "version": "3.9.12"
  }
 },
 "nbformat": 4,
 "nbformat_minor": 5
}
