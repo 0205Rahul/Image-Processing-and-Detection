{
 "cells": [
  {
   "cell_type": "code",
<<<<<<< HEAD
   "execution_count": 42,
=======
   "execution_count": 27,
>>>>>>> 8ff069e7a37713b496cada373f994674aa0e24bc
   "id": "738cbb01",
   "metadata": {
    "is_executing": true
   },
   "outputs": [],
   "source": [
    "import numpy as np\n",
    "import sys\n",
    "import cv2"
   ]
  },
  {
   "cell_type": "code",
<<<<<<< HEAD
   "execution_count": 62,
=======
   "execution_count": 32,
>>>>>>> 8ff069e7a37713b496cada373f994674aa0e24bc
   "id": "ed6d4ba5",
   "metadata": {},
   "outputs": [],
   "source": [
    "img_1 = cv2.imread('POC/q1.jpg')\n",
    "img_2 = cv2.imread('POC/q2.jpg')"
   ]
  },
  {
   "cell_type": "code",
<<<<<<< HEAD
   "execution_count": 63,
   "id": "b5314972",
=======
   "execution_count": 33,
   "id": "0501ff82",
>>>>>>> 8ff069e7a37713b496cada373f994674aa0e24bc
   "metadata": {},
   "outputs": [
    {
     "data": {
<<<<<<< HEAD
      "application/vnd.jupyter.widget-view+json": {
       "model_id": "96659138b2c8441184121412568edf32",
       "version_major": 2,
       "version_minor": 0
      },
=======
>>>>>>> 8ff069e7a37713b496cada373f994674aa0e24bc
      "text/plain": [
       "(675, 900, 3)"
      ]
     },
     "execution_count": 33,
     "metadata": {},
<<<<<<< HEAD
     "output_type": "display_data"
    },
    {
     "data": {
      "application/vnd.jupyter.widget-view+json": {
       "model_id": "543a9015b9fe4f80b777016a3857d25c",
       "version_major": 2,
       "version_minor": 0
      },
      "text/plain": [
       "FileUpload(value={}, accept='.jpg,.jpeg,.png', description='Upload Image 2')"
      ]
     },
     "metadata": {},
     "output_type": "display_data"
    }
   ],
   "source": [
    "# Display the upload buttons\n",
    "display(upload_button1, upload_button2)"
=======
     "output_type": "execute_result"
    }
   ],
   "source": [
    "img_1.shape"
   ]
  },
  {
   "cell_type": "code",
   "execution_count": 34,
   "id": "570e2cf9",
   "metadata": {},
   "outputs": [
    {
     "data": {
      "text/plain": [
       "(675, 900, 3)"
      ]
     },
     "execution_count": 34,
     "metadata": {},
     "output_type": "execute_result"
    }
   ],
   "source": [
    "img_2.shape"
   ]
  },
  {
   "cell_type": "code",
   "execution_count": 35,
   "id": "119470a5",
   "metadata": {},
   "outputs": [
    {
     "ename": "SystemExit",
     "evalue": "",
     "output_type": "error",
     "traceback": [
      "An exception has occurred, use %tb to see the full traceback.\n",
      "\u001b[1;31mSystemExit\u001b[0m\n"
     ]
    },
    {
     "name": "stderr",
     "output_type": "stream",
     "text": [
      "C:\\Users\\KIIT\\AppData\\Local\\Packages\\PythonSoftwareFoundation.Python.3.9_qbz5n2kfra8p0\\LocalCache\\local-packages\\Python39\\site-packages\\IPython\\core\\interactiveshell.py:3406: UserWarning: To exit: use 'exit', 'quit', or Ctrl-D.\n",
      "  warn(\"To exit: use 'exit', 'quit', or Ctrl-D.\", stacklevel=1)\n"
     ]
    }
   ],
   "source": [
    "while True:\n",
    "    cv2.imshow(\"Image_1\", img_1)\n",
    "    cv2.imshow(\"Image_2\", img_2)\n",
    "    cv2.waitKey(0)\n",
    "    sys.exit() # to exit from all the processes"
   ]
  },
  {
   "cell_type": "code",
   "execution_count": 36,
   "id": "2d90e2a7",
   "metadata": {},
   "outputs": [],
   "source": [
    "val = (img_1.shape == img_2.shape)\n",
    "if val==False:\n",
    "    print('Images are different, due to shape')"
>>>>>>> 8ff069e7a37713b496cada373f994674aa0e24bc
   ]
  },
  {
   "cell_type": "code",
<<<<<<< HEAD
   "execution_count": 64,
   "id": "343be0af",
=======
   "execution_count": 37,
   "id": "54b015cc",
>>>>>>> 8ff069e7a37713b496cada373f994674aa0e24bc
   "metadata": {},
   "outputs": [],
   "source": [
    "img_1 = cv2.resize(img_1, (img_2.shape[1], img_2.shape[0]))"
   ]
  },
  {
   "cell_type": "code",
<<<<<<< HEAD
   "execution_count": 66,
   "id": "c28344bb",
=======
   "execution_count": 38,
   "id": "0fbb4850",
>>>>>>> 8ff069e7a37713b496cada373f994674aa0e24bc
   "metadata": {},
   "outputs": [
    {
     "data": {
      "text/plain": [
       "(675, 900, 3)"
      ]
     },
     "execution_count": 38,
     "metadata": {},
     "output_type": "execute_result"
    }
   ],
   "source": [
<<<<<<< HEAD
    "# Read the uploaded images using cv2.imread\n",
    "img_1 = cv2.imdecode(np.frombuffer(img_bytes1['content'], np.uint8), cv2.IMREAD_COLOR)\n",
    "img_2 = cv2.imdecode(np.frombuffer(img_bytes2['content'], np.uint8), cv2.IMREAD_COLOR)"
=======
    "img_1.shape"
>>>>>>> 8ff069e7a37713b496cada373f994674aa0e24bc
   ]
  },
  {
   "cell_type": "code",
<<<<<<< HEAD
   "execution_count": 67,
   "id": "0501ff82",
=======
   "execution_count": 39,
   "id": "6e0047da",
>>>>>>> 8ff069e7a37713b496cada373f994674aa0e24bc
   "metadata": {},
   "outputs": [
    {
     "data": {
      "text/plain": [
       "(675, 900, 3)"
      ]
     },
     "execution_count": 67,
     "metadata": {},
     "output_type": "execute_result"
    }
   ],
   "source": [
    "img_2.shape"
   ]
  },
  {
   "cell_type": "code",
<<<<<<< HEAD
   "execution_count": 68,
   "id": "570e2cf9",
   "metadata": {},
   "outputs": [
    {
     "data": {
      "text/plain": [
       "(675, 900, 3)"
      ]
     },
     "execution_count": 68,
     "metadata": {},
     "output_type": "execute_result"
    }
   ],
   "source": [
    "img_2.shape"
   ]
  },
  {
   "cell_type": "code",
   "execution_count": 98,
   "id": "119470a5",
   "metadata": {},
   "outputs": [
    {
     "ename": "SystemExit",
     "evalue": "",
     "output_type": "error",
     "traceback": [
      "An exception has occurred, use %tb to see the full traceback.\n",
      "\u001b[1;31mSystemExit\u001b[0m\n"
     ]
    },
    {
     "name": "stderr",
     "output_type": "stream",
     "text": [
      "C:\\ProgramData\\Anaconda3\\lib\\site-packages\\IPython\\core\\interactiveshell.py:3377: UserWarning: To exit: use 'exit', 'quit', or Ctrl-D.\n",
      "  warn(\"To exit: use 'exit', 'quit', or Ctrl-D.\", stacklevel=1)\n"
     ]
    }
   ],
   "source": [
    "while True:\n",
    "    cv2.imshow(\"Image_1\", img_1)\n",
    "    cv2.imshow(\"Image_2\", img_2)\n",
    "    cv2.waitKey(0)\n",
    "    sys.exit() # to exit from all the processes"
   ]
  },
  {
   "cell_type": "code",
   "execution_count": 99,
   "id": "2d90e2a7",
   "metadata": {},
   "outputs": [],
   "source": [
    "val = (img_1.shape == img_2.shape)\n",
    "if val==False:\n",
    "    print('Images are different, due to shape')"
   ]
  },
  {
   "cell_type": "code",
   "execution_count": 100,
   "id": "54b015cc",
   "metadata": {},
   "outputs": [],
   "source": [
    "img_1 = cv2.resize(img_1, (img_2.shape[1], img_2.shape[0]))"
   ]
  },
  {
   "cell_type": "code",
   "execution_count": 101,
   "id": "0fbb4850",
   "metadata": {},
   "outputs": [
    {
     "data": {
      "text/plain": [
       "(483, 720, 3)"
      ]
     },
     "execution_count": 101,
     "metadata": {},
     "output_type": "execute_result"
    }
   ],
   "source": [
    "img_1.shape"
   ]
  },
  {
   "cell_type": "code",
   "execution_count": 102,
   "id": "6e0047da",
   "metadata": {},
   "outputs": [
    {
     "data": {
      "text/plain": [
       "(483, 720, 3)"
      ]
     },
     "execution_count": 102,
     "metadata": {},
     "output_type": "execute_result"
    }
   ],
   "source": [
    "img_2.shape"
   ]
  },
  {
   "cell_type": "code",
   "execution_count": 69,
=======
   "execution_count": 40,
>>>>>>> 8ff069e7a37713b496cada373f994674aa0e24bc
   "id": "9d794481",
   "metadata": {},
   "outputs": [],
   "source": [
    "diff = cv2.absdiff(img_1, img_2)"
   ]
  },
  {
   "cell_type": "code",
<<<<<<< HEAD
   "execution_count": 70,
=======
   "execution_count": 41,
>>>>>>> 8ff069e7a37713b496cada373f994674aa0e24bc
   "id": "c1b248c6",
   "metadata": {},
   "outputs": [
    {
     "data": {
      "text/plain": [
       "array([[[7, 7, 8],\n",
       "        [7, 7, 6],\n",
       "        [2, 2, 3],\n",
       "        ...,\n",
       "        [6, 6, 6],\n",
       "        [3, 3, 3],\n",
       "        [4, 4, 4]],\n",
       "\n",
       "       [[6, 6, 5],\n",
       "        [6, 6, 7],\n",
       "        [4, 4, 5],\n",
       "        ...,\n",
       "        [2, 2, 2],\n",
       "        [4, 4, 4],\n",
       "        [3, 3, 3]],\n",
       "\n",
       "       [[7, 7, 7],\n",
       "        [6, 6, 6],\n",
       "        [6, 6, 6],\n",
       "        ...,\n",
       "        [6, 6, 6],\n",
       "        [4, 4, 4],\n",
       "        [3, 3, 3]],\n",
       "\n",
       "       ...,\n",
       "\n",
       "       [[2, 1, 2],\n",
       "        [2, 1, 2],\n",
       "        [3, 1, 1],\n",
       "        ...,\n",
       "        [3, 3, 3],\n",
       "        [1, 1, 1],\n",
       "        [2, 2, 2]],\n",
       "\n",
       "       [[1, 2, 1],\n",
       "        [1, 2, 1],\n",
       "        [1, 1, 1],\n",
       "        ...,\n",
       "        [2, 2, 2],\n",
       "        [1, 1, 1],\n",
       "        [2, 2, 2]],\n",
       "\n",
       "       [[1, 2, 1],\n",
       "        [0, 3, 0],\n",
       "        [0, 2, 2],\n",
       "        ...,\n",
       "        [0, 0, 0],\n",
       "        [0, 0, 0],\n",
       "        [3, 3, 3]]], dtype=uint8)"
      ]
     },
<<<<<<< HEAD
     "execution_count": 70,
=======
     "execution_count": 41,
>>>>>>> 8ff069e7a37713b496cada373f994674aa0e24bc
     "metadata": {},
     "output_type": "execute_result"
    }
   ],
   "source": [
    "diff"
   ]
  },
  {
   "cell_type": "code",
<<<<<<< HEAD
   "execution_count": 71,
=======
   "execution_count": 42,
>>>>>>> 8ff069e7a37713b496cada373f994674aa0e24bc
   "id": "c7809f87",
   "metadata": {},
   "outputs": [],
   "source": [
    "gray = cv2.cvtColor(diff, cv2.COLOR_BGR2GRAY)"
   ]
  },
  {
   "cell_type": "code",
<<<<<<< HEAD
   "execution_count": 72,
=======
   "execution_count": 43,
>>>>>>> 8ff069e7a37713b496cada373f994674aa0e24bc
   "id": "69a5a0a5",
   "metadata": {},
   "outputs": [
    {
     "data": {
      "text/plain": [
       "array([[7, 7, 2, ..., 6, 3, 4],\n",
       "       [6, 6, 4, ..., 2, 4, 3],\n",
       "       [7, 6, 6, ..., 6, 4, 3],\n",
       "       ...,\n",
       "       [1, 1, 1, ..., 3, 1, 2],\n",
       "       [2, 2, 1, ..., 2, 1, 2],\n",
       "       [2, 2, 2, ..., 0, 0, 3]], dtype=uint8)"
      ]
     },
<<<<<<< HEAD
     "execution_count": 72,
=======
     "execution_count": 43,
>>>>>>> 8ff069e7a37713b496cada373f994674aa0e24bc
     "metadata": {},
     "output_type": "execute_result"
    }
   ],
   "source": [
    "gray"
   ]
  },
  {
   "cell_type": "code",
<<<<<<< HEAD
   "execution_count": 73,
=======
   "execution_count": 44,
>>>>>>> 8ff069e7a37713b496cada373f994674aa0e24bc
   "id": "02af2e6a",
   "metadata": {},
   "outputs": [],
   "source": [
    "_, thresh = cv2.threshold(gray, 30, 255, cv2.THRESH_BINARY)"
   ]
  },
  {
   "cell_type": "code",
<<<<<<< HEAD
   "execution_count": 74,
=======
   "execution_count": 45,
>>>>>>> 8ff069e7a37713b496cada373f994674aa0e24bc
   "id": "062cc658",
   "metadata": {},
   "outputs": [],
   "source": [
    "contours, _ = cv2.findContours(thresh, cv2.RETR_EXTERNAL, cv2.CHAIN_APPROX_SIMPLE)"
   ]
  },
  {
   "cell_type": "code",
<<<<<<< HEAD
   "execution_count": 75,
=======
   "execution_count": 50,
>>>>>>> 8ff069e7a37713b496cada373f994674aa0e24bc
   "id": "4fb8ca49",
   "metadata": {},
   "outputs": [],
   "source": [
    "thresh_limit = 150"
   ]
  },
  {
   "cell_type": "code",
<<<<<<< HEAD
   "execution_count": 76,
=======
   "execution_count": 51,
>>>>>>> 8ff069e7a37713b496cada373f994674aa0e24bc
   "id": "13ec9cb6",
   "metadata": {},
   "outputs": [],
   "source": [
    "for ct in contours:\n",
    "    area_mark = cv2.contourArea(ct)\n",
    "    if area_mark > thresh_limit:\n",
    "        (x, y, w, h) = cv2.boundingRect(ct)\n",
    "        cv2.rectangle(img_1, (x, y), (x+w, y+h), (0, 0, 255), 2)\n",
    "        cv2.putText(img_1, 'Missing Object', (x, y-10), cv2.FONT_HERSHEY_SIMPLEX, 0.7, (0, 0, 0), 2)\n",
    "        cv2.rectangle(img_2, (x, y), (x+w, y+h), (0, 0, 255), 2)\n",
    "        cv2.putText(img_2, 'Missing Object', (x, y-10), cv2.FONT_HERSHEY_SIMPLEX, 0.7, (0, 0, 0), 2)"
   ]
  },
  {
   "cell_type": "code",
<<<<<<< HEAD
   "execution_count": 77,
=======
   "execution_count": 52,
>>>>>>> 8ff069e7a37713b496cada373f994674aa0e24bc
   "id": "5f0aa51c",
   "metadata": {},
   "outputs": [],
   "source": [
    "cv2.imshow(\"Difference_1\", img_1)\n",
    "cv2.waitKey(0)\n",
    "cv2.destroyAllWindows()\n"
   ]
  },
  {
   "cell_type": "code",
<<<<<<< HEAD
   "execution_count": 78,
=======
   "execution_count": 53,
>>>>>>> 8ff069e7a37713b496cada373f994674aa0e24bc
   "id": "09a8170f",
   "metadata": {},
   "outputs": [],
   "source": [
    "cv2.imshow(\"Difference_2\", img_2)\n",
    "cv2.waitKey(0)\n",
    "cv2.destroyAllWindows()"
   ]
  },
  {
   "cell_type": "code",
   "execution_count": null,
   "id": "1f516440",
   "metadata": {},
   "outputs": [],
   "source": []
  }
 ],
 "metadata": {
  "kernelspec": {
   "display_name": "Python 3 (ipykernel)",
   "language": "python",
   "name": "python3"
  },
  "language_info": {
   "codemirror_mode": {
    "name": "ipython",
    "version": 3
   },
   "file_extension": ".py",
   "mimetype": "text/x-python",
   "name": "python",
   "nbconvert_exporter": "python",
   "pygments_lexer": "ipython3",
   "version": "3.9.12"
  }
 },
 "nbformat": 4,
 "nbformat_minor": 5
}
