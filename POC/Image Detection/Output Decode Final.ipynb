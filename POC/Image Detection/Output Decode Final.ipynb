{
 "cells": [
  {
   "cell_type": "code",
   "execution_count": 5,
   "id": "ed6f52a4",
   "metadata": {},
   "outputs": [
    {
     "data": {
      "text/plain": [
       "True"
      ]
     },
     "execution_count": 5,
     "metadata": {},
     "output_type": "execute_result"
    }
   ],
   "source": [
    "import numpy as np\n",
    "import sys\n",
    "import cv2\n",
    "import io,os\n",
    "import tkinter as tk\n",
    "from tkinter import filedialog\n",
    "import ipywidgets as widgets\n",
    "from PIL import Image\n",
    "from IPython.display import display,clear_output\n",
    "\n",
    "img_1= cv2.imread('awe1.jpg')\n",
    "img_2 = cv2.imread('awe2.jpg')\n",
    "\n",
    "\n",
    "cv2.imshow(\"Image 1\", img_1)\n",
    "cv2.imshow(\"Image 2\", img_2)\n",
    "cv2.waitKey(0)\n",
    "cv2.destroyAllWindows()\n",
    "\n",
    "img_1.shape\n",
    "\n",
    "img_2.shape\n",
    "\n",
    "diff = cv2.absdiff(img_1, img_2) #find pixel by pixel difference wrt to both images\n",
    "\n",
    "diff\n",
    "\n",
    "gray = cv2.cvtColor(diff, cv2.COLOR_BGR2GRAY)\n",
    "\n",
    "gray\n",
    "\n",
    "_, thresh = cv2.threshold(gray, 30, 255, cv2.THRESH_BINARY)\n",
    "\n",
    "kernel = cv2.getStructuringElement(cv2.MORPH_RECT, (5, 5))\n",
    "thresh = cv2.dilate(thresh, kernel, iterations=2)\n",
    "thresh = cv2.erode(thresh, kernel, iterations=1)\n",
    "\n",
    "contours, _ = cv2.findContours(thresh, cv2.RETR_EXTERNAL, cv2.CHAIN_APPROX_SIMPLE)\n",
    "\n",
    "thresh_limit = 200\n",
    "\n",
    "segmented_diff = img_2.copy()\n",
    "\n",
    "i = 0\n",
    "for ct in (contours): \n",
    "    area_mark = cv2.contourArea(ct)\n",
    "    if area_mark > thresh_limit:\n",
    "        (x, y, w, h) = cv2.boundingRect(ct)\n",
    "        cv2.rectangle(segmented_diff, (x, y), (x+w, y+h), (0, 0, 255), 2)\n",
    "        cv2.putText(segmented_diff, f'Diff {i}', (x, y-10), cv2.FONT_HERSHEY_SIMPLEX, 0.7, (0, 0, 0), 2)\n",
    "        i += 1\n",
    "\n",
    "cv2.imshow(\"Difference\", segmented_diff)\n",
    "cv2.waitKey(0)\n",
    "cv2.destroyAllWindows()\n",
    "\n",
    "save_dir = \"image_data\"\n",
    "os.makedirs(save_dir, exist_ok=True)\n",
    "\n",
    "# Save the captured/uploaded images\n",
    "cv2.imwrite(os.path.join(save_dir, \"realim1.jpg\"), img_1)\n",
    "cv2.imwrite(os.path.join(save_dir, \"realim2.jpg\"), img_2)\n",
    "cv2.imwrite(os.path.join(save_dir, \"difference.jpg\"), segmented_diff)"
   ]
  },
  {
   "cell_type": "code",
   "execution_count": null,
   "id": "ee3a4e22",
   "metadata": {},
   "outputs": [],
   "source": []
  }
 ],
 "metadata": {
  "kernelspec": {
   "display_name": "Python 3 (ipykernel)",
   "language": "python",
   "name": "python3"
  },
  "language_info": {
   "codemirror_mode": {
    "name": "ipython",
    "version": 3
   },
   "file_extension": ".py",
   "mimetype": "text/x-python",
   "name": "python",
   "nbconvert_exporter": "python",
   "pygments_lexer": "ipython3",
   "version": "3.9.12"
  }
 },
 "nbformat": 4,
 "nbformat_minor": 5
}
