{
 "cells": [
  {
   "cell_type": "code",
   "execution_count": 1,
   "id": "738cbb01",
   "metadata": {},
   "outputs": [],
   "source": [
    "import numpy as np\n",
    "import sys\n",
    "import cv2\n",
    "import io\n",
    "import tkinter as tk\n",
    "from tkinter import filedialog\n",
    "import ipywidgets as widgets\n",
    "from PIL import Image\n",
    "from IPython.display import display,clear_output"
   ]
  },
  {
   "cell_type": "code",
   "execution_count": 2,
   "id": "902e94bb",
   "metadata": {},
   "outputs": [],
   "source": [
    "def capture_image_from_camera():\n",
    "    cap = cv2.VideoCapture(0)\n",
    "    ret, img_ = cap.read()\n",
    "    cap.release()\n",
    "    return img_"
   ]
  },
  {
   "cell_type": "code",
   "execution_count": 3,
   "id": "45984e0e",
   "metadata": {},
   "outputs": [],
   "source": [
    "def upload_image_from_local():\n",
    "    root = tk.Tk()\n",
    "    root.withdraw()\n",
    "    file_path = filedialog.askopenfilename()\n",
    "    root.destroy()\n",
    "    \n",
    "    if file_path:\n",
    "        img_ = cv2.imread(file_path)\n",
    "        return img_\n",
    "    else:\n",
    "        return None"
   ]
  },
  {
   "cell_type": "code",
   "execution_count": null,
   "id": "9c1cd0e6",
   "metadata": {},
   "outputs": [
    {
     "name": "stdout",
     "output_type": "stream",
     "text": [
      "Options for Image 1:\n",
      "1. Capture from Camera\n",
      "2. Upload Image from Local\n",
      "Enter your choice (1 or 2): 2\n"
     ]
    }
   ],
   "source": [
    "#Prompt user to capture first image\n",
    "print(\"Options for Image 1:\")\n",
    "print(\"1. Capture from Camera\")\n",
    "print(\"2. Upload Image from Local\")\n",
    "\n",
    "choice = int(input(\"Enter your choice (1 or 2): \"))\n",
    "\n",
    "if choice == 1:\n",
    "    img_1 = capture_image_from_camera()\n",
    "elif choice == 2:\n",
    "    img_1 = upload_image_from_local()\n",
    "else:\n",
    "    print(\"Invalid choice!\")"
   ]
  },
  {
   "cell_type": "code",
   "execution_count": null,
   "id": "20cefb55",
   "metadata": {},
   "outputs": [],
   "source": [
    "# Prompt the user to capture the second image\n",
    "print(\"Options for Image 2:\")\n",
    "print(\"1. Capture from Camera\")\n",
    "print(\"2. Upload Image from Local\")\n",
    "\n",
    "choice = int(input(\"Enter your choice (1 or 2): \"))\n",
    "\n",
    "if choice == 1:\n",
    "    img_2 = capture_image_from_camera()\n",
    "elif choice == 2:\n",
    "    img_2 = upload_image_from_local()\n",
    "else:\n",
    "    print(\"Invalid choice!\")"
   ]
  },
  {
   "cell_type": "code",
   "execution_count": null,
   "id": "0eb021e7",
   "metadata": {},
   "outputs": [],
   "source": [
    "cv2.imshow(\"Image 1\", img_1)\n",
    "cv2.imshow(\"Image 2\", img_2)\n",
    "cv2.waitKey(0)\n",
    "cv2.destroyAllWindows()"
   ]
  },
  {
   "cell_type": "code",
   "execution_count": 37,
   "id": "0501ff82",
   "metadata": {},
   "outputs": [
    {
     "data": {
      "text/plain": [
       "(480, 640, 3)"
      ]
     },
     "execution_count": 37,
     "metadata": {},
     "output_type": "execute_result"
    }
   ],
   "source": [
    "img_1.shape"
   ]
  },
  {
   "cell_type": "code",
   "execution_count": 38,
   "id": "570e2cf9",
   "metadata": {},
   "outputs": [
    {
     "data": {
      "text/plain": [
       "(480, 640, 3)"
      ]
     },
     "execution_count": 38,
     "metadata": {},
     "output_type": "execute_result"
    }
   ],
   "source": [
    "img_2.shape"
   ]
  },
  {
   "cell_type": "code",
   "execution_count": 39,
   "id": "119470a5",
   "metadata": {},
   "outputs": [
    {
     "ename": "SystemExit",
     "evalue": "",
     "output_type": "error",
     "traceback": [
      "An exception has occurred, use %tb to see the full traceback.\n",
      "\u001b[1;31mSystemExit\u001b[0m\n"
     ]
    }
   ],
   "source": [
    "while True:\n",
    "    cv2.imshow(\"Image_1\", img_1)\n",
    "    cv2.imshow(\"Image_2\", img_2)\n",
    "    cv2.waitKey(0)\n",
    "    sys.exit() # to exit from all the processes"
   ]
  },
  {
   "cell_type": "code",
   "execution_count": 40,
   "id": "2d90e2a7",
   "metadata": {},
   "outputs": [],
   "source": [
    "val = (img_1.shape == img_2.shape)\n",
    "if val==False:\n",
    "    print('Images are different, due to shape')"
   ]
  },
  {
   "cell_type": "code",
   "execution_count": 41,
   "id": "54b015cc",
   "metadata": {},
   "outputs": [],
   "source": [
    "img_1 = cv2.resize(img_1, (img_2.shape[1], img_2.shape[0]))"
   ]
  },
  {
   "cell_type": "code",
   "execution_count": 42,
   "id": "0fbb4850",
   "metadata": {},
   "outputs": [
    {
     "data": {
      "text/plain": [
       "(480, 640, 3)"
      ]
     },
     "execution_count": 42,
     "metadata": {},
     "output_type": "execute_result"
    }
   ],
   "source": [
    "img_1.shape"
   ]
  },
  {
   "cell_type": "code",
   "execution_count": 43,
   "id": "6e0047da",
   "metadata": {},
   "outputs": [
    {
     "data": {
      "text/plain": [
       "(480, 640, 3)"
      ]
     },
     "execution_count": 43,
     "metadata": {},
     "output_type": "execute_result"
    }
   ],
   "source": [
    "img_2.shape"
   ]
  },
  {
   "cell_type": "code",
   "execution_count": 44,
   "id": "9d794481",
   "metadata": {},
   "outputs": [],
   "source": [
    "diff = cv2.absdiff(img_1, img_2)"
   ]
  },
  {
   "cell_type": "code",
   "execution_count": 45,
   "id": "c1b248c6",
   "metadata": {},
   "outputs": [
    {
     "data": {
      "text/plain": [
       "array([[[40, 61, 71],\n",
       "        [46, 65, 72],\n",
       "        [52, 69, 74],\n",
       "        ...,\n",
       "        [51, 61, 69],\n",
       "        [54, 63, 70],\n",
       "        [56, 65, 70]],\n",
       "\n",
       "       [[41, 62, 72],\n",
       "        [47, 65, 74],\n",
       "        [51, 67, 76],\n",
       "        ...,\n",
       "        [50, 61, 69],\n",
       "        [50, 61, 69],\n",
       "        [52, 63, 69]],\n",
       "\n",
       "       [[46, 63, 70],\n",
       "        [47, 63, 71],\n",
       "        [50, 66, 73],\n",
       "        ...,\n",
       "        [47, 61, 68],\n",
       "        [49, 60, 68],\n",
       "        [51, 62, 68]],\n",
       "\n",
       "       ...,\n",
       "\n",
       "       [[44, 52, 66],\n",
       "        [47, 56, 69],\n",
       "        [48, 58, 70],\n",
       "        ...,\n",
       "        [24, 42, 45],\n",
       "        [21, 39, 41],\n",
       "        [21, 39, 41]],\n",
       "\n",
       "       [[49, 55, 66],\n",
       "        [51, 58, 68],\n",
       "        [50, 57, 67],\n",
       "        ...,\n",
       "        [18, 37, 41],\n",
       "        [16, 36, 41],\n",
       "        [16, 36, 41]],\n",
       "\n",
       "       [[49, 58, 68],\n",
       "        [50, 58, 68],\n",
       "        [51, 58, 68],\n",
       "        ...,\n",
       "        [15, 35, 39],\n",
       "        [15, 35, 40],\n",
       "        [16, 36, 41]]], dtype=uint8)"
      ]
     },
     "execution_count": 45,
     "metadata": {},
     "output_type": "execute_result"
    }
   ],
   "source": [
    "diff"
   ]
  },
  {
   "cell_type": "code",
   "execution_count": 46,
   "id": "c7809f87",
   "metadata": {},
   "outputs": [],
   "source": [
    "gray = cv2.cvtColor(diff, cv2.COLOR_BGR2GRAY)"
   ]
  },
  {
   "cell_type": "code",
   "execution_count": 47,
   "id": "69a5a0a5",
   "metadata": {},
   "outputs": [
    {
     "data": {
      "text/plain": [
       "array([[62, 65, 69, ..., 62, 64, 65],\n",
       "       [63, 66, 68, ..., 62, 62, 64],\n",
       "       [63, 64, 66, ..., 61, 61, 63],\n",
       "       ...,\n",
       "       [55, 59, 60, ..., 41, 38, 38],\n",
       "       [58, 60, 59, ..., 36, 35, 35],\n",
       "       [60, 60, 60, ..., 34, 34, 35]], dtype=uint8)"
      ]
     },
     "execution_count": 47,
     "metadata": {},
     "output_type": "execute_result"
    }
   ],
   "source": [
    "gray"
   ]
  },
  {
   "cell_type": "code",
   "execution_count": 48,
   "id": "02af2e6a",
   "metadata": {},
   "outputs": [],
   "source": [
    "_, thresh = cv2.threshold(gray, 30, 255, cv2.THRESH_BINARY)"
   ]
  },
  {
   "cell_type": "code",
   "execution_count": 49,
   "id": "062cc658",
   "metadata": {},
   "outputs": [],
   "source": [
    "contours, _ = cv2.findContours(thresh, cv2.RETR_EXTERNAL, cv2.CHAIN_APPROX_SIMPLE)"
   ]
  },
  {
   "cell_type": "code",
   "execution_count": 50,
   "id": "4fb8ca49",
   "metadata": {},
   "outputs": [],
   "source": [
    "thresh_limit = 100"
   ]
  },
  {
   "cell_type": "code",
   "execution_count": 51,
   "id": "13ec9cb6",
   "metadata": {},
   "outputs": [],
   "source": [
    "for ct in contours:\n",
    "    area_mark = cv2.contourArea(ct)\n",
    "    if area_mark > thresh_limit:\n",
    "        (x, y, w, h) = cv2.boundingRect(ct)\n",
    "        cv2.rectangle(img_1, (x, y), (x+w, y+h), (0, 0, 255), 2)\n",
    "        cv2.putText(img_1, 'Missing Object', (x, y-10), cv2.FONT_HERSHEY_SIMPLEX, 0.7, (0, 0, 0), 2)\n",
    "        cv2.rectangle(img_2, (x, y), (x+w, y+h), (0, 0, 255), 2)\n",
    "        cv2.putText(img_2, 'Missing Object', (x, y-10), cv2.FONT_HERSHEY_SIMPLEX, 0.7, (0, 0, 0), 2)"
   ]
  },
  {
   "cell_type": "code",
   "execution_count": 52,
   "id": "5f0aa51c",
   "metadata": {},
   "outputs": [],
   "source": [
    "cv2.imshow(\"Difference_1\", img_1)\n",
    "cv2.waitKey(0)\n",
    "cv2.destroyAllWindows()\n"
   ]
  },
  {
   "cell_type": "code",
   "execution_count": 53,
   "id": "09a8170f",
   "metadata": {},
   "outputs": [],
   "source": [
    "cv2.imshow(\"Difference_2\", img_2)\n",
    "cv2.waitKey(0)\n",
    "cv2.destroyAllWindows()"
   ]
  },
  {
   "cell_type": "code",
   "execution_count": null,
   "id": "1f516440",
   "metadata": {},
   "outputs": [],
   "source": []
  }
 ],
 "metadata": {
  "kernelspec": {
   "display_name": "Python 3 (ipykernel)",
   "language": "python",
   "name": "python3"
  },
  "language_info": {
   "codemirror_mode": {
    "name": "ipython",
    "version": 3
   },
   "file_extension": ".py",
   "mimetype": "text/x-python",
   "name": "python",
   "nbconvert_exporter": "python",
   "pygments_lexer": "ipython3",
   "version": "3.9.12"
  }
 },
 "nbformat": 4,
 "nbformat_minor": 5
}
